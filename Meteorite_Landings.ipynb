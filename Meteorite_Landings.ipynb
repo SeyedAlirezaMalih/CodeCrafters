{
 "cells": [
  {
   "cell_type": "code",
   "execution_count": 113,
   "metadata": {},
   "outputs": [],
   "source": [
    "# Import library\n",
    "import pandas as pd"
   ]
  },
  {
   "cell_type": "code",
   "execution_count": null,
   "metadata": {},
   "outputs": [],
   "source": [
    "# Read path\n",
    "Met_path='YourPath/Meteorite_Landings_20231224.csv'\n",
    "\n",
    "# Read file\n",
    "Met_read=pd.read_csv(Met_path)\n",
    "\n",
    "# Describe the file\n",
    "Met_read.head()"
   ]
  },
  {
   "cell_type": "code",
   "execution_count": null,
   "metadata": {},
   "outputs": [],
   "source": [
    "# Show colums\n",
    "Met_read.columns"
   ]
  },
  {
   "cell_type": "code",
   "execution_count": null,
   "metadata": {},
   "outputs": [],
   "source": [
    "# Data prepration_0\n",
    "Met_pre=Met_read.dropna(axis=0)\n",
    "\n",
    "# Show head\n",
    "Met_pre.head()"
   ]
  },
  {
   "cell_type": "code",
   "execution_count": 117,
   "metadata": {},
   "outputs": [],
   "source": [
    "# Data prepration_1\n",
    "Met_features=['reclat', 'reclong']"
   ]
  },
  {
   "cell_type": "code",
   "execution_count": null,
   "metadata": {},
   "outputs": [],
   "source": [
    "# Data prepration_2\n",
    "Met_merged=Met_pre[Met_features]\n",
    "Met_merged.head()"
   ]
  },
  {
   "cell_type": "code",
   "execution_count": null,
   "metadata": {},
   "outputs": [],
   "source": [
    "# Predict section\n",
    "Met_year=Met_pre.year\n",
    "Met_year"
   ]
  },
  {
   "cell_type": "code",
   "execution_count": 120,
   "metadata": {},
   "outputs": [],
   "source": [
    "# Import library\n",
    "from sklearn.tree import DecisionTreeRegressor"
   ]
  },
  {
   "cell_type": "code",
   "execution_count": null,
   "metadata": {},
   "outputs": [],
   "source": [
    "# Model making\n",
    "Met_model= DecisionTreeRegressor(random_state=1)\n",
    "Met_model.fit(Met_merged,Met_year)"
   ]
  },
  {
   "cell_type": "code",
   "execution_count": null,
   "metadata": {},
   "outputs": [],
   "source": [
    "# Check the result\n",
    "print(\"Making predictions for the following 5 houses:\")\n",
    "print(Met_merged.describe())\n",
    "print(\"The predictions are\")\n",
    "print(Met_model.predict(Met_merged.describe()))"
   ]
  }
 ],
 "metadata": {
  "kernelspec": {
   "display_name": "Python 3",
   "language": "python",
   "name": "python3"
  },
  "language_info": {
   "codemirror_mode": {
    "name": "ipython",
    "version": 3
   },
   "file_extension": ".py",
   "mimetype": "text/x-python",
   "name": "python",
   "nbconvert_exporter": "python",
   "pygments_lexer": "ipython3",
   "version": "3.11.1"
  }
 },
 "nbformat": 4,
 "nbformat_minor": 2
}
